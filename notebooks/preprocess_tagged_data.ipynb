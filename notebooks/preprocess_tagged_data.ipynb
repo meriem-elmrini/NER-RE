{
 "cells": [
  {
   "cell_type": "code",
   "execution_count": 1,
   "id": "5aa07f0f-7a78-41c9-ab0b-0297cab64a05",
   "metadata": {},
   "outputs": [
    {
     "name": "stderr",
     "output_type": "stream",
     "text": [
      "/opt/conda/envs/spacy_gpu/lib/python3.10/site-packages/tqdm/auto.py:22: TqdmWarning: IProgress not found. Please update jupyter and ipywidgets. See https://ipywidgets.readthedocs.io/en/stable/user_install.html\n",
      "  from .autonotebook import tqdm as notebook_tqdm\n"
     ]
    }
   ],
   "source": [
    "from google.cloud import bigquery\n",
    "import spacy\n",
    "from spacy.util import filter_spans\n",
    "from tqdm import tqdm\n",
    "import numpy as np\n",
    "import json\n",
    "import re\n",
    "\n",
    "tqdm.pandas()"
   ]
  },
  {
   "cell_type": "code",
   "execution_count": 2,
   "id": "5b9b6a92-1494-48c3-800f-b63bfe0dda7c",
   "metadata": {},
   "outputs": [],
   "source": [
    "write_all = True"
   ]
  },
  {
   "cell_type": "code",
   "execution_count": 3,
   "id": "e47354ff-24b2-4953-b168-51298c95c7d7",
   "metadata": {},
   "outputs": [],
   "source": [
    "client = bigquery.Client()"
   ]
  },
  {
   "cell_type": "code",
   "execution_count": 4,
   "id": "3acbec18-a027-499d-a249-0c085c9d76a8",
   "metadata": {},
   "outputs": [],
   "source": [
    "query = \"\"\"Select targets.entities as target_ents, targets.sentence, diseases.entities as disease_ents\n",
    "            From tagged_data.targets\n",
    "            Inner join tagged_data.diseases\n",
    "            On targets.field=diseases.field\n",
    "            And targets.sentence_id=diseases.sentence_id\n",
    "            And targets.servier_doc_id=diseases.servier_doc_id\"\"\""
   ]
  },
  {
   "cell_type": "code",
   "execution_count": 5,
   "id": "11d56fc5-7e61-4800-bff0-bd1557ade59e",
   "metadata": {},
   "outputs": [],
   "source": [
    "tagged = client.query(query).to_dataframe()"
   ]
  },
  {
   "cell_type": "code",
   "execution_count": 6,
   "id": "70f47ede-9743-4e69-97b6-b2a4c86b0b74",
   "metadata": {},
   "outputs": [
    {
     "data": {
      "text/plain": [
       "(2131481, 3)"
      ]
     },
     "execution_count": 6,
     "metadata": {},
     "output_type": "execute_result"
    }
   ],
   "source": [
    "tagged.shape"
   ]
  },
  {
   "cell_type": "code",
   "execution_count": 7,
   "id": "58953e54-a5ba-4658-90b4-20897abe580c",
   "metadata": {},
   "outputs": [],
   "source": [
    "tagged = tagged.sample(50000)"
   ]
  },
  {
   "cell_type": "code",
   "execution_count": 8,
   "id": "d59014d0-b9bd-4212-929e-52ec85acbe5b",
   "metadata": {},
   "outputs": [],
   "source": [
    "tagged['all_entities'] = tagged.apply(lambda x: list(x.target_ents) + list(x.disease_ents), axis=1)"
   ]
  },
  {
   "cell_type": "code",
   "execution_count": 9,
   "id": "6fc4dd94-d424-4bf4-872c-da81957319fe",
   "metadata": {},
   "outputs": [
    {
     "name": "stderr",
     "output_type": "stream",
     "text": [
      "100%|██████████| 50000/50000 [06:42<00:00, 124.37it/s]\n"
     ]
    }
   ],
   "source": [
    "nlp = spacy.load('en_core_web_sm')\n",
    "tagged['doc'] = tagged['sentence'].progress_apply(lambda x: nlp(x))"
   ]
  },
  {
   "cell_type": "code",
   "execution_count": 11,
   "id": "88e1fa1e-276a-4b5c-b591-5634b84e5e8e",
   "metadata": {},
   "outputs": [],
   "source": [
    "# Get tokens\n",
    "def get_tokens(x, i):\n",
    "    doc = x['doc'].copy()\n",
    "    text = str(doc[i])\n",
    "    start = doc[i:i+1].start_char\n",
    "    end = doc[i:i+1].end_char\n",
    "    if len(str(doc)) > end:\n",
    "        next_char = str(doc)[end]\n",
    "    else:\n",
    "        next_char = ''\n",
    "    if next_char == ' ':\n",
    "        ws = True\n",
    "    else:\n",
    "        ws = False\n",
    "    return {'text': text, \n",
    "            'start': start, \n",
    "            'end': end, \n",
    "            'id': i, \n",
    "            'ws': ws,\n",
    "            'disabled': True}"
   ]
  },
  {
   "cell_type": "code",
   "execution_count": 12,
   "id": "61c055a8-26f1-4042-9173-2ef346dd4f89",
   "metadata": {
    "tags": []
   },
   "outputs": [
    {
     "name": "stderr",
     "output_type": "stream",
     "text": [
      "100%|██████████| 50000/50000 [01:45<00:00, 473.35it/s]\n"
     ]
    }
   ],
   "source": [
    "tagged['tokens'] = tagged.progress_apply(lambda x: [get_tokens(x, i) for i in range(len(x.doc))], axis=1)"
   ]
  },
  {
   "cell_type": "code",
   "execution_count": 19,
   "id": "2bedcbbe-3f25-4f79-b747-8776404a8f08",
   "metadata": {},
   "outputs": [],
   "source": [
    "# Get spans\n",
    "def get_spans(x):\n",
    "    spans = []\n",
    "    doc = x['doc'].copy()\n",
    "    for d in x.all_entities:\n",
    "        start = d['start']\n",
    "        end = d['end']\n",
    "        substring = x['sentence'][start: end]\n",
    "        lspaces = len(substring) - len(substring.lstrip())\n",
    "        rspaces = len(substring) - len(substring.rstrip())\n",
    "        start += lspaces\n",
    "        end -= rspaces\n",
    "        label = d['origin'].split('_')[-1] if d['origin'].split('_')[-1].isupper() else d['origin'].split('_')[0]\n",
    "        span = doc.char_span(start, end, label)\n",
    "        if span is not None:\n",
    "            spans.append(span)\n",
    "    filtered_spans = filter_spans(spans)\n",
    "    return [{\n",
    "            'text': str(span), \n",
    "            'start': span.start_char, \n",
    "            'token_start': span.start,\n",
    "            'token_end': span.end, \n",
    "            'end': span.end_char, \n",
    "            'type': 'span',\n",
    "            'label': span.label_}\n",
    "           for span in filtered_spans]"
   ]
  },
  {
   "cell_type": "code",
   "execution_count": 20,
   "id": "082232c8-f655-4f43-8fd3-3d4fb75005c3",
   "metadata": {},
   "outputs": [
    {
     "name": "stderr",
     "output_type": "stream",
     "text": [
      "100%|██████████| 50000/50000 [00:04<00:00, 11356.67it/s]\n"
     ]
    }
   ],
   "source": [
    "tagged['spans'] = tagged.progress_apply(lambda x: get_spans(x), axis=1)"
   ]
  },
  {
   "cell_type": "code",
   "execution_count": 32,
   "id": "6622ab1c-527c-48bd-a9ba-05f0dff295bb",
   "metadata": {},
   "outputs": [],
   "source": [
    "tagged['answer'] = 'accept'\n",
    "tagged['meta'] = None\n",
    "tagged['meta'] = tagged['meta'].apply(lambda x: {'source': 'unkown'})"
   ]
  },
  {
   "cell_type": "code",
   "execution_count": 33,
   "id": "1f4ccd51-99c4-4e4f-b8dc-50e861c6348c",
   "metadata": {},
   "outputs": [],
   "source": [
    "tagged = tagged[['sentence', 'tokens', 'spans', 'answer', 'meta']]"
   ]
  },
  {
   "cell_type": "code",
   "execution_count": 34,
   "id": "86b79ee5-d806-4ff6-b8ca-6bee61c64a73",
   "metadata": {},
   "outputs": [],
   "source": [
    "tagged.columns = ['text', 'tokens', 'spans', 'answer', 'meta']"
   ]
  },
  {
   "cell_type": "code",
   "execution_count": 35,
   "id": "f5d10d4f-dc17-452f-9600-8517fe698693",
   "metadata": {},
   "outputs": [],
   "source": [
    "def write_jsonl(df, path):\n",
    "    our_jsonl = df.to_dict(orient='records')\n",
    "    with open(path, 'w') as outfile:\n",
    "        for json_line in our_jsonl:\n",
    "            json.dump(json_line, outfile)\n",
    "            outfile.write('\\n')"
   ]
  },
  {
   "cell_type": "code",
   "execution_count": 36,
   "id": "28db18d1-e638-48cf-991d-f4ea9822f76a",
   "metadata": {},
   "outputs": [],
   "source": [
    "if write_all:\n",
    "    np.random.seed(0)\n",
    "    n1 = int(tagged.shape[0] * 65/100)\n",
    "    n2 = int(tagged.shape[0] * 85/100) \n",
    "    df_shuffled = tagged.sample(frac=1)\n",
    "    annotations_train = df_shuffled[:n1]\n",
    "    annotations_dev = df_shuffled[n1:n2]\n",
    "    annotations_test = df_shuffled[n2:]\n",
    "    # Write for NER\n",
    "    write_jsonl(annotations_train, '../NER/assets/annotations_train.jsonl')\n",
    "    write_jsonl(annotations_dev, '../NER/assets/annotations_dev.jsonl')\n",
    "    write_jsonl(annotations_test, '../NER/assets/annotations_test.jsonl')"
   ]
  },
  {
   "cell_type": "code",
   "execution_count": null,
   "id": "77b02166-4fa5-40aa-aa28-62f1575bd82e",
   "metadata": {},
   "outputs": [],
   "source": []
  }
 ],
 "metadata": {
  "environment": {
   "kernel": "spacy_gpu",
   "name": "common-cu110.m95",
   "type": "gcloud",
   "uri": "gcr.io/deeplearning-platform-release/base-cu110:m95"
  },
  "kernelspec": {
   "display_name": "spacy_gpu",
   "language": "python",
   "name": "spacy_gpu"
  },
  "language_info": {
   "codemirror_mode": {
    "name": "ipython",
    "version": 3
   },
   "file_extension": ".py",
   "mimetype": "text/x-python",
   "name": "python",
   "nbconvert_exporter": "python",
   "pygments_lexer": "ipython3",
   "version": "3.10.6"
  }
 },
 "nbformat": 4,
 "nbformat_minor": 5
}
