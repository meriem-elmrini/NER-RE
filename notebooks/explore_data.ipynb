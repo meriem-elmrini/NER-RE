{
 "cells": [
  {
   "cell_type": "markdown",
   "id": "a4b5b210-ecb9-423a-b510-cea18a2bf932",
   "metadata": {},
   "source": [
    "# Explore data"
   ]
  },
  {
   "cell_type": "code",
   "execution_count": 1,
   "id": "f9430256-6b02-46ae-8568-a6f7ac94beb0",
   "metadata": {},
   "outputs": [],
   "source": [
    "import json\n",
    "import ast\n",
    "import pandas as pd\n",
    "import numpy as np\n",
    "import re\n",
    "from spacy.lang.en import English"
   ]
  },
  {
   "cell_type": "code",
   "execution_count": 34,
   "id": "a66dca21-2fdc-4230-87d6-5d5637fb77e1",
   "metadata": {},
   "outputs": [],
   "source": [
    "data_path = r'../example_assets/annotations_test.jsonl'"
   ]
  },
  {
   "cell_type": "code",
   "execution_count": 36,
   "id": "e967afcc-f20e-40c3-9fa1-9fb485474867",
   "metadata": {},
   "outputs": [],
   "source": [
    "def read_jsonl(data_path):\n",
    "    with open(data_path, 'r') as f:\n",
    "        json_list = list(f)\n",
    "    data = []\n",
    "    for j in json_list:\n",
    "        data.append(json.loads(j))\n",
    "    return pd.DataFrame(data)"
   ]
  },
  {
   "cell_type": "code",
   "execution_count": 37,
   "id": "aaae46e0-56b0-43ac-acea-40e43892ec36",
   "metadata": {},
   "outputs": [],
   "source": [
    "ner_df = read_jsonl(data_path)"
   ]
  },
  {
   "cell_type": "code",
   "execution_count": 38,
   "id": "c7b8f34b-d9c1-42dd-a43d-418a7058a143",
   "metadata": {
    "collapsed": true,
    "jupyter": {
     "outputs_hidden": true
    },
    "tags": []
   },
   "outputs": [
    {
     "data": {
      "text/plain": [
       "[{'text': 'The', 'start': 0, 'end': 3, 'id': 0, 'ws': True, 'disabled': True},\n",
       " {'text': 'RUNX',\n",
       "  'start': 4,\n",
       "  'end': 8,\n",
       "  'id': 1,\n",
       "  'ws': True,\n",
       "  'disabled': False},\n",
       " {'text': 'protein',\n",
       "  'start': 9,\n",
       "  'end': 16,\n",
       "  'id': 2,\n",
       "  'ws': True,\n",
       "  'disabled': True},\n",
       " {'text': 'that',\n",
       "  'start': 17,\n",
       "  'end': 21,\n",
       "  'id': 3,\n",
       "  'ws': True,\n",
       "  'disabled': True},\n",
       " {'text': 'actually',\n",
       "  'start': 22,\n",
       "  'end': 30,\n",
       "  'id': 4,\n",
       "  'ws': True,\n",
       "  'disabled': True},\n",
       " {'text': 'induces',\n",
       "  'start': 31,\n",
       "  'end': 38,\n",
       "  'id': 5,\n",
       "  'ws': True,\n",
       "  'disabled': True},\n",
       " {'text': 'the',\n",
       "  'start': 39,\n",
       "  'end': 42,\n",
       "  'id': 6,\n",
       "  'ws': True,\n",
       "  'disabled': True},\n",
       " {'text': 'expression',\n",
       "  'start': 43,\n",
       "  'end': 53,\n",
       "  'id': 7,\n",
       "  'ws': True,\n",
       "  'disabled': True},\n",
       " {'text': 'of', 'start': 54, 'end': 56, 'id': 8, 'ws': True, 'disabled': True},\n",
       " {'text': 'FOXP3',\n",
       "  'start': 57,\n",
       "  'end': 62,\n",
       "  'id': 9,\n",
       "  'ws': True,\n",
       "  'disabled': False},\n",
       " {'text': 'might',\n",
       "  'start': 63,\n",
       "  'end': 68,\n",
       "  'id': 10,\n",
       "  'ws': True,\n",
       "  'disabled': True},\n",
       " {'text': 'therefore',\n",
       "  'start': 69,\n",
       "  'end': 78,\n",
       "  'id': 11,\n",
       "  'ws': True,\n",
       "  'disabled': True},\n",
       " {'text': 'be',\n",
       "  'start': 79,\n",
       "  'end': 81,\n",
       "  'id': 12,\n",
       "  'ws': True,\n",
       "  'disabled': True},\n",
       " {'text': 'dependent',\n",
       "  'start': 82,\n",
       "  'end': 91,\n",
       "  'id': 13,\n",
       "  'ws': True,\n",
       "  'disabled': True},\n",
       " {'text': 'on',\n",
       "  'start': 92,\n",
       "  'end': 94,\n",
       "  'id': 14,\n",
       "  'ws': True,\n",
       "  'disabled': True},\n",
       " {'text': 'the',\n",
       "  'start': 95,\n",
       "  'end': 98,\n",
       "  'id': 15,\n",
       "  'ws': True,\n",
       "  'disabled': True},\n",
       " {'text': 'availability',\n",
       "  'start': 99,\n",
       "  'end': 111,\n",
       "  'id': 16,\n",
       "  'ws': True,\n",
       "  'disabled': True},\n",
       " {'text': 'of',\n",
       "  'start': 112,\n",
       "  'end': 114,\n",
       "  'id': 17,\n",
       "  'ws': True,\n",
       "  'disabled': True},\n",
       " {'text': 'the',\n",
       "  'start': 115,\n",
       "  'end': 118,\n",
       "  'id': 18,\n",
       "  'ws': True,\n",
       "  'disabled': True},\n",
       " {'text': 'specific',\n",
       "  'start': 119,\n",
       "  'end': 127,\n",
       "  'id': 19,\n",
       "  'ws': True,\n",
       "  'disabled': True},\n",
       " {'text': 'RUNX',\n",
       "  'start': 128,\n",
       "  'end': 132,\n",
       "  'id': 20,\n",
       "  'ws': True,\n",
       "  'disabled': False},\n",
       " {'text': 'family',\n",
       "  'start': 133,\n",
       "  'end': 139,\n",
       "  'id': 21,\n",
       "  'ws': True,\n",
       "  'disabled': True},\n",
       " {'text': 'member',\n",
       "  'start': 140,\n",
       "  'end': 146,\n",
       "  'id': 22,\n",
       "  'ws': True,\n",
       "  'disabled': True},\n",
       " {'text': 'at',\n",
       "  'start': 147,\n",
       "  'end': 149,\n",
       "  'id': 23,\n",
       "  'ws': True,\n",
       "  'disabled': True},\n",
       " {'text': 'certain',\n",
       "  'start': 150,\n",
       "  'end': 157,\n",
       "  'id': 24,\n",
       "  'ws': True,\n",
       "  'disabled': True},\n",
       " {'text': 'stages',\n",
       "  'start': 158,\n",
       "  'end': 164,\n",
       "  'id': 25,\n",
       "  'ws': True,\n",
       "  'disabled': True},\n",
       " {'text': 'of',\n",
       "  'start': 165,\n",
       "  'end': 167,\n",
       "  'id': 26,\n",
       "  'ws': True,\n",
       "  'disabled': True},\n",
       " {'text': 'T',\n",
       "  'start': 168,\n",
       "  'end': 169,\n",
       "  'id': 27,\n",
       "  'ws': True,\n",
       "  'disabled': True},\n",
       " {'text': 'cell',\n",
       "  'start': 170,\n",
       "  'end': 174,\n",
       "  'id': 28,\n",
       "  'ws': True,\n",
       "  'disabled': True},\n",
       " {'text': 'development',\n",
       "  'start': 175,\n",
       "  'end': 186,\n",
       "  'id': 29,\n",
       "  'ws': False,\n",
       "  'disabled': True},\n",
       " {'text': '.',\n",
       "  'start': 186,\n",
       "  'end': 187,\n",
       "  'id': 30,\n",
       "  'ws': False,\n",
       "  'disabled': True}]"
      ]
     },
     "execution_count": 38,
     "metadata": {},
     "output_type": "execute_result"
    }
   ],
   "source": [
    "ner_df.tokens.iloc[0]"
   ]
  },
  {
   "cell_type": "code",
   "execution_count": 6,
   "id": "2941830b-3e43-488c-94b6-1c3cd3459b69",
   "metadata": {},
   "outputs": [],
   "source": [
    "ws = pd.DataFrame(ner_df.tokens.apply(lambda x: [x[i]['ws'] for i in range(len(x))]))\n",
    "disabled = pd.DataFrame(ner_df.tokens.apply(lambda x: [x[i]['disabled'] for i in range(len(x))]))"
   ]
  },
  {
   "cell_type": "code",
   "execution_count": 7,
   "id": "c125021a-bc74-4117-9a60-44240acc1180",
   "metadata": {},
   "outputs": [],
   "source": [
    "disabled['sum'] = disabled['tokens'].apply(lambda x: np.sum(x) / len(x))"
   ]
  },
  {
   "cell_type": "code",
   "execution_count": 8,
   "id": "01aab651-5375-4978-bd24-809857171cec",
   "metadata": {},
   "outputs": [
    {
     "data": {
      "text/plain": [
       "0.8380485562474074"
      ]
     },
     "execution_count": 8,
     "metadata": {},
     "output_type": "execute_result"
    }
   ],
   "source": [
    "np.mean(disabled['sum'])"
   ]
  },
  {
   "cell_type": "code",
   "execution_count": 9,
   "id": "a3d4c6b0-d4b0-4f5c-909b-b6ea4fe54ed4",
   "metadata": {},
   "outputs": [
    {
     "data": {
      "text/plain": [
       "25"
      ]
     },
     "execution_count": 9,
     "metadata": {},
     "output_type": "execute_result"
    }
   ],
   "source": [
    "len(ws.iloc[0].tokens)"
   ]
  },
  {
   "cell_type": "code",
   "execution_count": 10,
   "id": "1ed83bc3-52d2-4cda-b54b-c5b645a958cd",
   "metadata": {},
   "outputs": [
    {
     "data": {
      "text/plain": [
       "'BMP-6 can signal through the ligation of the type I receptors Act-RIA, BMP-RIA, and BMP-RIB and the type II receptors BMP-RII, Act-RIIA and Act-RIIB, which lead to the phosphorylation of the receptor Smads (Smad-1, Smad-5, and Smad-8).'"
      ]
     },
     "execution_count": 10,
     "metadata": {},
     "output_type": "execute_result"
    }
   ],
   "source": [
    "ner_df.iloc[1].text"
   ]
  },
  {
   "cell_type": "code",
   "execution_count": 11,
   "id": "c9708f44-9d68-4652-ad00-ab3e38e9e222",
   "metadata": {
    "collapsed": true,
    "jupyter": {
     "outputs_hidden": true
    },
    "tags": []
   },
   "outputs": [
    {
     "name": "stdout",
     "output_type": "stream",
     "text": [
      "BMP-6\n",
      "can\n",
      "signal\n",
      "through\n",
      "the\n",
      "ligation\n",
      "of\n",
      "the\n",
      "type\n",
      "I\n",
      "receptors\n",
      "BMP-RIB\n",
      "II\n",
      "receptors\n",
      "and\n",
      "Act-RIIB,\n",
      "which\n",
      "lead\n",
      "to\n",
      "the\n",
      "receptor\n",
      "Smad-5,\n",
      "and\n"
     ]
    }
   ],
   "source": [
    "splits = ner_df.iloc[1].text.split(' ')\n",
    "for i in range(len(splits)):\n",
    "    if ws.iloc[1]['tokens'][i]:\n",
    "        print(splits[i])"
   ]
  },
  {
   "cell_type": "code",
   "execution_count": 12,
   "id": "767541b3-121f-429d-a786-cc12befe0165",
   "metadata": {
    "collapsed": true,
    "jupyter": {
     "outputs_hidden": true
    },
    "tags": []
   },
   "outputs": [
    {
     "name": "stdout",
     "output_type": "stream",
     "text": [
      "Act-RIA,\n",
      "BMP-RIA,\n",
      "and\n",
      "and\n",
      "the\n",
      "type\n",
      "BMP-RII,\n",
      "Act-RIIA\n",
      "phosphorylation\n",
      "of\n",
      "the\n",
      "Smads\n",
      "(Smad-1,\n",
      "Smad-8).\n"
     ]
    }
   ],
   "source": [
    "splits = ner_df.iloc[1].text.split(' ')\n",
    "for i in range(len(splits)):\n",
    "    if not ws.iloc[1]['tokens'][i]:\n",
    "        print(splits[i])"
   ]
  },
  {
   "cell_type": "code",
   "execution_count": 13,
   "id": "172d6649-dc21-4495-94ef-038bc214db03",
   "metadata": {},
   "outputs": [],
   "source": [
    "ws['sum'] = ws['tokens'].apply(lambda x: np.sum(x) / len(x))"
   ]
  },
  {
   "cell_type": "code",
   "execution_count": 14,
   "id": "c3fe0001-17cd-4aa7-b387-b4aa2f064d5c",
   "metadata": {},
   "outputs": [
    {
     "data": {
      "text/plain": [
       "0.7881091715649026"
      ]
     },
     "execution_count": 14,
     "metadata": {},
     "output_type": "execute_result"
    }
   ],
   "source": [
    "ws['sum'].values.mean()"
   ]
  },
  {
   "cell_type": "code",
   "execution_count": 15,
   "id": "bf4f8e48-017f-4780-93ef-2a1743709003",
   "metadata": {},
   "outputs": [
    {
     "name": "stdout",
     "output_type": "stream",
     "text": [
      "(149, 10)\n"
     ]
    }
   ],
   "source": [
    "print(ner_df.shape)"
   ]
  },
  {
   "cell_type": "code",
   "execution_count": 16,
   "id": "fd66427f-f112-4023-b204-e6c282d94b34",
   "metadata": {
    "tags": []
   },
   "outputs": [
    {
     "data": {
      "text/plain": [
       "text           Furthermore, Smad-phosphorylation was followed...\n",
       "spans          [{'text': 'Smad', 'start': 13, 'token_start': ...\n",
       "meta           {'source': 'BioNLP 2011 Genia Shared Task, PMC...\n",
       "_input_hash                                            -13216227\n",
       "_task_hash                                           -1944660624\n",
       "tokens         [{'text': 'Furthermore', 'start': 0, 'end': 11...\n",
       "_session_id                                                 None\n",
       "_view_id                                               relations\n",
       "relations      [{'head': 2, 'child': 10, 'head_span': {'start...\n",
       "answer                                                    accept\n",
       "Name: 0, dtype: object"
      ]
     },
     "execution_count": 16,
     "metadata": {},
     "output_type": "execute_result"
    }
   ],
   "source": [
    "ner_df.iloc[0]"
   ]
  },
  {
   "cell_type": "code",
   "execution_count": 17,
   "id": "840716d1-bf87-4694-9068-998bdf17431f",
   "metadata": {},
   "outputs": [
    {
     "data": {
      "text/plain": [
       "{'source': 'BioNLP 2011 Genia Shared Task, PMC-1134658-00-TIAB.txt'}"
      ]
     },
     "execution_count": 17,
     "metadata": {},
     "output_type": "execute_result"
    }
   ],
   "source": [
    "ner_df.meta.iloc[0]"
   ]
  },
  {
   "cell_type": "code",
   "execution_count": 18,
   "id": "fa61f779-f57a-42a8-993e-3d85e6469cf9",
   "metadata": {},
   "outputs": [],
   "source": [
    "ner_df['entities'] = ner_df['spans'].apply(lambda x: [x[i]['text'] for i in range(len(x))])\n",
    "entities = set([item for sublist in list(ner_df['entities'].values) for item in sublist])"
   ]
  },
  {
   "cell_type": "code",
   "execution_count": 19,
   "id": "47fa34a6-2651-4136-9f92-deba740d154b",
   "metadata": {},
   "outputs": [],
   "source": [
    "# Ner labels\n",
    "ner_df['labels'] = ner_df['spans'].apply(lambda x: [x[i]['label'] for i in range(len(x))])"
   ]
  },
  {
   "cell_type": "code",
   "execution_count": 20,
   "id": "d01c1d4c-8629-486e-a0f7-76c1275c0e88",
   "metadata": {},
   "outputs": [],
   "source": [
    "labels = set([item for sublist in list(ner_df['labels'].values) for item in sublist])"
   ]
  },
  {
   "cell_type": "code",
   "execution_count": 21,
   "id": "9da8316a-28c3-4e9f-bdb8-4df12524e055",
   "metadata": {},
   "outputs": [
    {
     "data": {
      "text/plain": [
       "{'GGP'}"
      ]
     },
     "execution_count": 21,
     "metadata": {},
     "output_type": "execute_result"
    }
   ],
   "source": [
    "labels"
   ]
  },
  {
   "cell_type": "code",
   "execution_count": 22,
   "id": "c3c2973c-1308-477e-a9d2-bd71aee447e6",
   "metadata": {},
   "outputs": [
    {
     "data": {
      "text/plain": [
       "'BMP-6 can signal through the ligation of the type I receptors Act-RIA, BMP-RIA, and BMP-RIB and the type II receptors BMP-RII, Act-RIIA and Act-RIIB, which lead to the phosphorylation of the receptor Smads (Smad-1, Smad-5, and Smad-8).'"
      ]
     },
     "execution_count": 22,
     "metadata": {},
     "output_type": "execute_result"
    }
   ],
   "source": [
    "ner_df.text.iloc[1]"
   ]
  },
  {
   "cell_type": "code",
   "execution_count": 23,
   "id": "a90da66b-95e7-43b1-b29e-0597875f0961",
   "metadata": {},
   "outputs": [
    {
     "data": {
      "text/plain": [
       "10"
      ]
     },
     "execution_count": 23,
     "metadata": {},
     "output_type": "execute_result"
    }
   ],
   "source": [
    "len(ner_df.spans.iloc[1])"
   ]
  },
  {
   "cell_type": "code",
   "execution_count": 24,
   "id": "124b7b58-415d-4100-9be1-9f2c0318fa19",
   "metadata": {},
   "outputs": [
    {
     "data": {
      "text/plain": [
       "4"
      ]
     },
     "execution_count": 24,
     "metadata": {},
     "output_type": "execute_result"
    }
   ],
   "source": [
    "len(ner_df.relations.iloc[0])"
   ]
  },
  {
   "cell_type": "code",
   "execution_count": 25,
   "id": "34fb3df0-8d86-479a-8cd4-5f4aee5411c9",
   "metadata": {},
   "outputs": [],
   "source": [
    "# Rel labels\n",
    "ner_df['relation_labels'] = ner_df['relations'].apply(lambda x: [x[i]['label'] for i in range(len(x))])"
   ]
  },
  {
   "cell_type": "code",
   "execution_count": 26,
   "id": "e092d573-a299-4448-9fc2-37e37795ebb9",
   "metadata": {},
   "outputs": [],
   "source": [
    "total_labels = [item for sublist in list(ner_df['relation_labels'].values) for item in sublist]"
   ]
  },
  {
   "cell_type": "code",
   "execution_count": 27,
   "id": "ebe45ad8-177e-4bb4-8a58-5d070e7c3f6e",
   "metadata": {},
   "outputs": [
    {
     "name": "stdout",
     "output_type": "stream",
     "text": [
      "Binds 0.13108614232209737\n",
      "Neg-Reg 0.15730337078651685\n",
      "No-rel 0.12734082397003746\n",
      "Pos-Reg 0.40074906367041196\n",
      "Reg 0.18352059925093633\n"
     ]
    }
   ],
   "source": [
    "for label in np.unique(total_labels):\n",
    "    print(label, total_labels.count(label) / len(total_labels))"
   ]
  },
  {
   "cell_type": "code",
   "execution_count": 28,
   "id": "01ac5f1a-9dcd-4ab7-9827-ca8189cfaab3",
   "metadata": {},
   "outputs": [],
   "source": [
    "def print_relations(relation):\n",
    "    row = ner_df[ner_df['relation_labels'].apply(lambda x: relation in x)].sample().iloc[0]\n",
    "    sentence = row.text\n",
    "    print('Text :', sentence)\n",
    "    print('')\n",
    "    for rel in row.relations:\n",
    "        if rel['label'] == relation:\n",
    "            print(sentence[rel['head_span']['start']:rel['head_span']['end']], relation, \n",
    "                  sentence[rel['child_span']['start']:rel['child_span']['end']])"
   ]
  },
  {
   "cell_type": "code",
   "execution_count": 29,
   "id": "8f29f4c6-11fb-4ae8-baef-fb5e83b0c0e2",
   "metadata": {},
   "outputs": [
    {
     "name": "stdout",
     "output_type": "stream",
     "text": [
      "Text : Transcriptional activation of the human TF gene in monocytic cells exposed to bacterial lipopolysaccharide (LPS) is mediated by binding of c-Rel/p65 heterodimers to a kappa B site in the TF promoter.\n",
      "\n",
      "c-Rel Binds TF\n",
      "p65 Binds TF\n"
     ]
    }
   ],
   "source": [
    "print_relations('Binds')"
   ]
  },
  {
   "cell_type": "code",
   "execution_count": 30,
   "id": "8f26cb99-6be2-414a-8938-8f797952cdef",
   "metadata": {},
   "outputs": [
    {
     "name": "stdout",
     "output_type": "stream",
     "text": [
      "Text : We demonstrated that interleukin 4 (IL-4) present at the time of T cell priming inhibits FOXP3.\n",
      "\n",
      "interleukin 4 Neg-Reg FOXP3\n",
      "IL-4 Neg-Reg FOXP3\n"
     ]
    }
   ],
   "source": [
    "print_relations('Neg-Reg')"
   ]
  },
  {
   "cell_type": "code",
   "execution_count": 31,
   "id": "d18f86f2-86e3-48ca-9b20-698a30e88307",
   "metadata": {},
   "outputs": [
    {
     "name": "stdout",
     "output_type": "stream",
     "text": [
      "Text : We observed no change in GATA3 expression in Th2 cells, T-bet expression in Th1 cells, or RORC2 mRNA expression in Th17 cells in which RUNX1 and RUNX3 were knocked down compared with control cells.\n",
      "\n",
      "RUNX1 No-rel RORC2\n",
      "RUNX1 No-rel T-bet\n",
      "RUNX1 No-rel GATA3\n",
      "RUNX3 No-rel RORC2\n",
      "RUNX3 No-rel T-bet\n",
      "RUNX3 No-rel GATA3\n"
     ]
    }
   ],
   "source": [
    "print_relations('No-rel')"
   ]
  },
  {
   "cell_type": "code",
   "execution_count": 32,
   "id": "e3f6fca2-91e7-4c3c-9f2c-6524926f0c65",
   "metadata": {},
   "outputs": [
    {
     "name": "stdout",
     "output_type": "stream",
     "text": [
      "Text : Of note, GATA3 was also induced in the presence of TGF-beta at high IL-4 concentration (Figure 5A and 5B).\n",
      "\n",
      "TGF-beta Pos-Reg GATA3\n",
      "IL-4 Pos-Reg GATA3\n"
     ]
    }
   ],
   "source": [
    "print_relations('Pos-Reg')"
   ]
  },
  {
   "cell_type": "code",
   "execution_count": 33,
   "id": "05023c6e-73f3-4a51-975d-c16e4b45eb5e",
   "metadata": {},
   "outputs": [
    {
     "name": "stdout",
     "output_type": "stream",
     "text": [
      "Text : The transactivation of multiple cis elements, especially S and X2, of the DR alpha proximal promoter in group II CID cells is CIITA dependent.\n",
      "\n",
      "CIITA Reg DR alpha\n"
     ]
    }
   ],
   "source": [
    "print_relations('Reg')"
   ]
  },
  {
   "cell_type": "code",
   "execution_count": 44,
   "id": "1ae8d3f4-690f-48b5-b8ca-c33af9e8ffcf",
   "metadata": {},
   "outputs": [
    {
     "data": {
      "text/plain": [
       "'TGF-beta can activate RUNX genes at the transcriptional level, and at the posttranscriptional level through activation or stabilization of RUNX proteins (Jin et al., 2004).'"
      ]
     },
     "execution_count": 44,
     "metadata": {},
     "output_type": "execute_result"
    }
   ],
   "source": [
    "ner_df.iloc[2].text"
   ]
  },
  {
   "cell_type": "code",
   "execution_count": 45,
   "id": "b1241dbd-d7a4-419e-b1ed-90840c510928",
   "metadata": {},
   "outputs": [
    {
     "data": {
      "text/plain": [
       "[{'text': 'TGF-beta',\n",
       "  'start': 0,\n",
       "  'token_start': 0,\n",
       "  'token_end': 2,\n",
       "  'end': 8,\n",
       "  'type': 'span',\n",
       "  'label': 'GGP'},\n",
       " {'text': 'RUNX',\n",
       "  'start': 22,\n",
       "  'token_start': 5,\n",
       "  'token_end': 5,\n",
       "  'end': 26,\n",
       "  'type': 'span',\n",
       "  'label': 'GGP'},\n",
       " {'text': 'RUNX',\n",
       "  'start': 139,\n",
       "  'token_start': 22,\n",
       "  'token_end': 22,\n",
       "  'end': 143,\n",
       "  'type': 'span',\n",
       "  'label': 'GGP'}]"
      ]
     },
     "execution_count": 45,
     "metadata": {},
     "output_type": "execute_result"
    }
   ],
   "source": [
    "ner_df.iloc[2].spans"
   ]
  },
  {
   "cell_type": "code",
   "execution_count": 46,
   "id": "312e3af8-1b4d-4801-bef5-5182fe911775",
   "metadata": {},
   "outputs": [
    {
     "data": {
      "text/plain": [
       "[{'head': 2,\n",
       "  'child': 5,\n",
       "  'head_span': {'start': 0,\n",
       "   'end': 8,\n",
       "   'token_start': 2,\n",
       "   'token_end': 2,\n",
       "   'label': 'GGP'},\n",
       "  'child_span': {'start': 22,\n",
       "   'end': 26,\n",
       "   'token_start': 5,\n",
       "   'token_end': 5,\n",
       "   'label': 'GGP'},\n",
       "  'color': '#ffd882',\n",
       "  'label': 'Pos-Reg'},\n",
       " {'head': 2,\n",
       "  'child': 22,\n",
       "  'head_span': {'start': 0,\n",
       "   'end': 8,\n",
       "   'token_start': 2,\n",
       "   'token_end': 2,\n",
       "   'label': 'GGP'},\n",
       "  'child_span': {'start': 139,\n",
       "   'end': 143,\n",
       "   'token_start': 22,\n",
       "   'token_end': 22,\n",
       "   'label': 'GGP'},\n",
       "  'color': '#ffd882',\n",
       "  'label': 'Pos-Reg'}]"
      ]
     },
     "execution_count": 46,
     "metadata": {},
     "output_type": "execute_result"
    }
   ],
   "source": [
    "ner_df.iloc[2].relations"
   ]
  },
  {
   "cell_type": "code",
   "execution_count": null,
   "id": "d216e17c-9159-4ad7-a914-9cd129586b4c",
   "metadata": {},
   "outputs": [],
   "source": []
  }
 ],
 "metadata": {
  "kernelspec": {
   "display_name": "Python 3 (ipykernel)",
   "language": "python",
   "name": "python3"
  },
  "language_info": {
   "codemirror_mode": {
    "name": "ipython",
    "version": 3
   },
   "file_extension": ".py",
   "mimetype": "text/x-python",
   "name": "python",
   "nbconvert_exporter": "python",
   "pygments_lexer": "ipython3",
   "version": "3.9.12"
  }
 },
 "nbformat": 4,
 "nbformat_minor": 5
}
