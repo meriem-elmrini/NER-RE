{
 "cells": [
  {
   "cell_type": "markdown",
   "id": "a4b5b210-ecb9-423a-b510-cea18a2bf932",
   "metadata": {},
   "source": [
    "# Explore data"
   ]
  },
  {
   "cell_type": "code",
   "execution_count": 1,
   "id": "75b3f792-2f51-46cc-b000-a4e4295de316",
   "metadata": {},
   "outputs": [],
   "source": [
    "import os\n",
    "\n",
    "os.chdir('..')"
   ]
  },
  {
   "cell_type": "code",
   "execution_count": 2,
   "id": "f9430256-6b02-46ae-8568-a6f7ac94beb0",
   "metadata": {},
   "outputs": [
    {
     "name": "stderr",
     "output_type": "stream",
     "text": [
      "/opt/conda/envs/spacy_gpu/lib/python3.10/site-packages/tqdm/auto.py:22: TqdmWarning: IProgress not found. Please update jupyter and ipywidgets. See https://ipywidgets.readthedocs.io/en/stable/user_install.html\n",
      "  from .autonotebook import tqdm as notebook_tqdm\n"
     ]
    }
   ],
   "source": [
    "import json\n",
    "import ast\n",
    "import pandas as pd\n",
    "import numpy as np\n",
    "import re\n",
    "from spacy.lang.en import English\n",
    "\n",
    "from utils.read_data import read_jsonl"
   ]
  },
  {
   "cell_type": "code",
   "execution_count": 5,
   "id": "a66dca21-2fdc-4230-87d6-5d5637fb77e1",
   "metadata": {},
   "outputs": [],
   "source": [
    "data_path = r'additional_data/example_assets/annotations_test.jsonl'"
   ]
  },
  {
   "cell_type": "code",
   "execution_count": 6,
   "id": "aaae46e0-56b0-43ac-acea-40e43892ec36",
   "metadata": {},
   "outputs": [],
   "source": [
    "ner_df = read_jsonl(data_path)"
   ]
  },
  {
   "cell_type": "code",
   "execution_count": 7,
   "id": "c7b8f34b-d9c1-42dd-a43d-418a7058a143",
   "metadata": {
    "tags": []
   },
   "outputs": [
    {
     "data": {
      "text/plain": [
       "{'text': 'The', 'start': 0, 'end': 3, 'id': 0, 'ws': True, 'disabled': True}"
      ]
     },
     "execution_count": 7,
     "metadata": {},
     "output_type": "execute_result"
    }
   ],
   "source": [
    "ner_df.tokens.iloc[0][0]"
   ]
  },
  {
   "cell_type": "code",
   "execution_count": 8,
   "id": "2941830b-3e43-488c-94b6-1c3cd3459b69",
   "metadata": {},
   "outputs": [],
   "source": [
    "ws = pd.DataFrame(ner_df.tokens.apply(lambda x: [x[i]['ws'] for i in range(len(x))]))\n",
    "disabled = pd.DataFrame(ner_df.tokens.apply(lambda x: [x[i]['disabled'] for i in range(len(x))]))"
   ]
  },
  {
   "cell_type": "code",
   "execution_count": 9,
   "id": "c125021a-bc74-4117-9a60-44240acc1180",
   "metadata": {},
   "outputs": [],
   "source": [
    "disabled['sum'] = disabled['tokens'].apply(lambda x: np.sum(x) / len(x))"
   ]
  },
  {
   "cell_type": "code",
   "execution_count": 10,
   "id": "01aab651-5375-4978-bd24-809857171cec",
   "metadata": {},
   "outputs": [
    {
     "data": {
      "text/plain": [
       "0.8357883267469727"
      ]
     },
     "execution_count": 10,
     "metadata": {},
     "output_type": "execute_result"
    }
   ],
   "source": [
    "np.mean(disabled['sum'])"
   ]
  },
  {
   "cell_type": "code",
   "execution_count": 11,
   "id": "840716d1-bf87-4694-9068-998bdf17431f",
   "metadata": {},
   "outputs": [
    {
     "data": {
      "text/plain": [
       "{'source': 'BioNLP 2011 Genia Shared Task, PMC-2806624-07-DISCUSSION.txt'}"
      ]
     },
     "execution_count": 11,
     "metadata": {},
     "output_type": "execute_result"
    }
   ],
   "source": [
    "ner_df.meta.iloc[0]"
   ]
  },
  {
   "cell_type": "code",
   "execution_count": 12,
   "id": "fa61f779-f57a-42a8-993e-3d85e6469cf9",
   "metadata": {},
   "outputs": [],
   "source": [
    "ner_df['entities'] = ner_df['spans'].apply(lambda x: [x[i]['text'] for i in range(len(x))])\n",
    "entities = set([item for sublist in list(ner_df['entities'].values) for item in sublist])"
   ]
  },
  {
   "cell_type": "code",
   "execution_count": 13,
   "id": "47fa34a6-2651-4136-9f92-deba740d154b",
   "metadata": {},
   "outputs": [],
   "source": [
    "# Ner labels\n",
    "ner_df['labels'] = ner_df['spans'].apply(lambda x: [x[i]['label'] for i in range(len(x))])"
   ]
  },
  {
   "cell_type": "code",
   "execution_count": 14,
   "id": "d01c1d4c-8629-486e-a0f7-76c1275c0e88",
   "metadata": {},
   "outputs": [],
   "source": [
    "labels = set([item for sublist in list(ner_df['labels'].values) for item in sublist])"
   ]
  },
  {
   "cell_type": "code",
   "execution_count": 15,
   "id": "9da8316a-28c3-4e9f-bdb8-4df12524e055",
   "metadata": {},
   "outputs": [
    {
     "data": {
      "text/plain": [
       "{'GGP'}"
      ]
     },
     "execution_count": 15,
     "metadata": {},
     "output_type": "execute_result"
    }
   ],
   "source": [
    "labels"
   ]
  },
  {
   "cell_type": "code",
   "execution_count": 16,
   "id": "c3c2973c-1308-477e-a9d2-bd71aee447e6",
   "metadata": {},
   "outputs": [
    {
     "data": {
      "text/plain": [
       "'It was shown that TGF-beta is mandatory for the maintenance of peripheral T reg cells and their expression of Foxp3 (Marie et al., 2005; Rubtsov and Rudensky, 2007).'"
      ]
     },
     "execution_count": 16,
     "metadata": {},
     "output_type": "execute_result"
    }
   ],
   "source": [
    "ner_df.text.iloc[1]"
   ]
  },
  {
   "cell_type": "code",
   "execution_count": 17,
   "id": "a90da66b-95e7-43b1-b29e-0597875f0961",
   "metadata": {},
   "outputs": [
    {
     "data": {
      "text/plain": [
       "2"
      ]
     },
     "execution_count": 17,
     "metadata": {},
     "output_type": "execute_result"
    }
   ],
   "source": [
    "len(ner_df.spans.iloc[1])"
   ]
  },
  {
   "cell_type": "code",
   "execution_count": 18,
   "id": "124b7b58-415d-4100-9be1-9f2c0318fa19",
   "metadata": {},
   "outputs": [
    {
     "data": {
      "text/plain": [
       "1"
      ]
     },
     "execution_count": 18,
     "metadata": {},
     "output_type": "execute_result"
    }
   ],
   "source": [
    "len(ner_df.relations.iloc[0])"
   ]
  },
  {
   "cell_type": "code",
   "execution_count": 19,
   "id": "34fb3df0-8d86-479a-8cd4-5f4aee5411c9",
   "metadata": {},
   "outputs": [],
   "source": [
    "# Rel labels\n",
    "ner_df['relation_labels'] = ner_df['relations'].apply(lambda x: [x[i]['label'] for i in range(len(x))])"
   ]
  },
  {
   "cell_type": "code",
   "execution_count": 20,
   "id": "e092d573-a299-4448-9fc2-37e37795ebb9",
   "metadata": {},
   "outputs": [],
   "source": [
    "total_labels = [item for sublist in list(ner_df['relation_labels'].values) for item in sublist]"
   ]
  },
  {
   "cell_type": "code",
   "execution_count": 21,
   "id": "ebe45ad8-177e-4bb4-8a58-5d070e7c3f6e",
   "metadata": {},
   "outputs": [
    {
     "name": "stdout",
     "output_type": "stream",
     "text": [
      "Binds 0.12582781456953643\n",
      "Neg-Reg 0.08609271523178808\n",
      "No-rel 0.09271523178807947\n",
      "Pos-Reg 0.44370860927152317\n",
      "Reg 0.25165562913907286\n"
     ]
    }
   ],
   "source": [
    "for label in np.unique(total_labels):\n",
    "    print(label, total_labels.count(label) / len(total_labels))"
   ]
  },
  {
   "cell_type": "code",
   "execution_count": 22,
   "id": "01ac5f1a-9dcd-4ab7-9827-ca8189cfaab3",
   "metadata": {},
   "outputs": [],
   "source": [
    "def print_relations(relation):\n",
    "    row = ner_df[ner_df['relation_labels'].apply(lambda x: relation in x)].sample().iloc[0]\n",
    "    sentence = row.text\n",
    "    print('Text :', sentence)\n",
    "    print('')\n",
    "    for rel in row.relations:\n",
    "        if rel['label'] == relation:\n",
    "            print(sentence[rel['head_span']['start']:rel['head_span']['end']], relation, \n",
    "                  sentence[rel['child_span']['start']:rel['child_span']['end']])"
   ]
  },
  {
   "cell_type": "code",
   "execution_count": 23,
   "id": "8f29f4c6-11fb-4ae8-baef-fb5e83b0c0e2",
   "metadata": {},
   "outputs": [
    {
     "name": "stdout",
     "output_type": "stream",
     "text": [
      "Text : We speculate that estrogens exert effects on erythropoiesis by modulating GATA-1 activity through protein-protein interaction with the ER.\n",
      "\n",
      "GATA-1 Binds ER\n"
     ]
    }
   ],
   "source": [
    "print_relations('Binds')"
   ]
  },
  {
   "cell_type": "code",
   "execution_count": 24,
   "id": "8f26cb99-6be2-414a-8938-8f797952cdef",
   "metadata": {},
   "outputs": [
    {
     "name": "stdout",
     "output_type": "stream",
     "text": [
      "Text : Initiation binding repressor [corrected] (IBR) is a chicken erythrocyte factor (apparent molecular mass, 70 to 73 kDa) that binds to the sequences spanning the transcription initiation site of the histone h5 gene, repressing its transcription.\n",
      "\n",
      "Initiation binding repressor Neg-Reg histone h5\n",
      "IBR Neg-Reg histone h5\n"
     ]
    }
   ],
   "source": [
    "print_relations('Neg-Reg')"
   ]
  },
  {
   "cell_type": "code",
   "execution_count": 25,
   "id": "d18f86f2-86e3-48ca-9b20-698a30e88307",
   "metadata": {},
   "outputs": [
    {
     "name": "stdout",
     "output_type": "stream",
     "text": [
      "Text : As an additional support for this concept, the overexpression of RUNX1 induced increased FOXP3 protein expression without any requirement of TGF-beta and anti-CD3 and anti-CD28 stimulation in human primary CD4+ cells.\n",
      "\n",
      "TGF-beta No-rel FOXP3\n"
     ]
    }
   ],
   "source": [
    "print_relations('No-rel')"
   ]
  },
  {
   "cell_type": "code",
   "execution_count": 26,
   "id": "e3f6fca2-91e7-4c3c-9f2c-6524926f0c65",
   "metadata": {},
   "outputs": [
    {
     "name": "stdout",
     "output_type": "stream",
     "text": [
      "Text : It was shown that TGF-beta is mandatory for the maintenance of peripheral T reg cells and their expression of Foxp3 (Marie et al., 2005; Rubtsov and Rudensky, 2007).\n",
      "\n",
      "TGF-beta Pos-Reg Foxp3\n"
     ]
    }
   ],
   "source": [
    "print_relations('Pos-Reg')"
   ]
  },
  {
   "cell_type": "code",
   "execution_count": 27,
   "id": "05023c6e-73f3-4a51-975d-c16e4b45eb5e",
   "metadata": {},
   "outputs": [
    {
     "name": "stdout",
     "output_type": "stream",
     "text": [
      "Text : We examined alpha A1 (an alpha A-gene product) and alpha B1 and alpha B2 (two alpha B-encoded isomers) for their effects on the GM-CSF promoter.\n",
      "\n",
      "alpha A1 Reg GM-CSF\n",
      "alpha B1 Reg GM-CSF\n",
      "alpha B2 Reg GM-CSF\n"
     ]
    }
   ],
   "source": [
    "print_relations('Reg')"
   ]
  },
  {
   "cell_type": "code",
   "execution_count": null,
   "id": "d216e17c-9159-4ad7-a914-9cd129586b4c",
   "metadata": {},
   "outputs": [],
   "source": []
  }
 ],
 "metadata": {
  "environment": {
   "kernel": "spacy_gpu",
   "name": "common-cu110.m95",
   "type": "gcloud",
   "uri": "gcr.io/deeplearning-platform-release/base-cu110:m95"
  },
  "kernelspec": {
   "display_name": "spacy_gpu",
   "language": "python",
   "name": "spacy_gpu"
  },
  "language_info": {
   "codemirror_mode": {
    "name": "ipython",
    "version": 3
   },
   "file_extension": ".py",
   "mimetype": "text/x-python",
   "name": "python",
   "nbconvert_exporter": "python",
   "pygments_lexer": "ipython3",
   "version": "3.10.6"
  }
 },
 "nbformat": 4,
 "nbformat_minor": 5
}
