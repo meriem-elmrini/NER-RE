{
 "cells": [
  {
   "cell_type": "code",
   "execution_count": 1,
   "id": "3bf79395-0b89-4d9f-af2c-19950ace1c20",
   "metadata": {
    "tags": []
   },
   "outputs": [],
   "source": [
    "import os\n",
    "os.chdir('..')"
   ]
  },
  {
   "cell_type": "code",
   "execution_count": 15,
   "id": "4d7fd560-55b2-45dd-aca6-e62e0c517cac",
   "metadata": {},
   "outputs": [],
   "source": [
    "import gcsfs\n",
    "import json\n",
    "import ast\n",
    "import pandas as pd\n",
    "import numpy as np\n",
    "import re\n",
    "import spacy\n",
    "from spacy.util import filter_spans \n",
    "\n",
    "from utils.read_data import read_jsonl, read_jsonl_from_gcs, read_parquet\n",
    "from utils.preprocess_data import preprocess\n",
    "from utils.write_jsonl import write_jsonl"
   ]
  },
  {
   "cell_type": "code",
   "execution_count": 3,
   "id": "141d4fd1-546a-43b9-aa5d-2cc81bc0c164",
   "metadata": {
    "tags": []
   },
   "outputs": [],
   "source": [
    "data_path = 'gs://doccano_annotation_2/data/doccano_export_10_10_2022.jsonl'\n",
    "drop_labels = ['BIOVERB']\n",
    "display = False\n",
    "write_all = False\n",
    "write_only_test = False"
   ]
  },
  {
   "cell_type": "code",
   "execution_count": 5,
   "id": "13a5ef94-cdb5-4021-baf5-784ec2ad4e1f",
   "metadata": {},
   "outputs": [],
   "source": [
    "if data_path.split('.')[-1] == 'jsonl':\n",
    "    our_data = read_jsonl_from_gcs(data_path)\n",
    "elif data_path.split('.')[-1] == 'parquet':\n",
    "    our_data = read_parquet(data_path)\n",
    "    our_data = doccano_doc_to_df(our_data)\n",
    "else:\n",
    "    raise Error('Please provide jsonl or paquet format')"
   ]
  },
  {
   "cell_type": "code",
   "execution_count": 6,
   "id": "69d2a05a-b92e-445b-b0ef-2daece2d2612",
   "metadata": {},
   "outputs": [
    {
     "data": {
      "text/html": [
       "<div>\n",
       "<style scoped>\n",
       "    .dataframe tbody tr th:only-of-type {\n",
       "        vertical-align: middle;\n",
       "    }\n",
       "\n",
       "    .dataframe tbody tr th {\n",
       "        vertical-align: top;\n",
       "    }\n",
       "\n",
       "    .dataframe thead th {\n",
       "        text-align: right;\n",
       "    }\n",
       "</style>\n",
       "<table border=\"1\" class=\"dataframe\">\n",
       "  <thead>\n",
       "    <tr style=\"text-align: right;\">\n",
       "      <th></th>\n",
       "      <th>id</th>\n",
       "      <th>text</th>\n",
       "      <th>Comments</th>\n",
       "      <th>entities</th>\n",
       "      <th>relations</th>\n",
       "    </tr>\n",
       "  </thead>\n",
       "  <tbody>\n",
       "    <tr>\n",
       "      <th>0</th>\n",
       "      <td>110</td>\n",
       "      <td>Infection of the cell lines with M. arginini r...</td>\n",
       "      <td>[]</td>\n",
       "      <td>[{'id': 17390, 'label': 'TARGET', 'start_offse...</td>\n",
       "      <td>[{'id': 9805, 'from_id': 34791, 'to_id': 17392...</td>\n",
       "    </tr>\n",
       "    <tr>\n",
       "      <th>1</th>\n",
       "      <td>111</td>\n",
       "      <td>Our results show that RA-NP inhibited LPS-indu...</td>\n",
       "      <td>[]</td>\n",
       "      <td>[{'id': 17395, 'label': 'BIOVERB', 'start_offs...</td>\n",
       "      <td>[{'id': 2250, 'from_id': 17400, 'to_id': 17396...</td>\n",
       "    </tr>\n",
       "    <tr>\n",
       "      <th>2</th>\n",
       "      <td>112</td>\n",
       "      <td>PF (10 μM) inhibited IL-33 production, Ca infl...</td>\n",
       "      <td>[{'id': 2, 'comment': 'Impossible a Tagger !!!...</td>\n",
       "      <td>[{'id': 17402, 'label': 'TARGET', 'start_offse...</td>\n",
       "      <td>[{'id': 2253, 'from_id': 17401, 'to_id': 17406...</td>\n",
       "    </tr>\n",
       "    <tr>\n",
       "      <th>3</th>\n",
       "      <td>113</td>\n",
       "      <td>We further showed that 4.1B inhibited the prol...</td>\n",
       "      <td>[]</td>\n",
       "      <td>[{'id': 17409, 'label': 'TARGET', 'start_offse...</td>\n",
       "      <td>[{'id': 2259, 'from_id': 17418, 'to_id': 17412...</td>\n",
       "    </tr>\n",
       "    <tr>\n",
       "      <th>4</th>\n",
       "      <td>114</td>\n",
       "      <td>Y(1) receptor antagonists, BIBP3226 and BIBO33...</td>\n",
       "      <td>[]</td>\n",
       "      <td>[{'id': 17420, 'label': 'TARGET', 'start_offse...</td>\n",
       "      <td>[{'id': 9821, 'from_id': 17425, 'to_id': 17424...</td>\n",
       "    </tr>\n",
       "  </tbody>\n",
       "</table>\n",
       "</div>"
      ],
      "text/plain": [
       "    id                                               text  \\\n",
       "0  110  Infection of the cell lines with M. arginini r...   \n",
       "1  111  Our results show that RA-NP inhibited LPS-indu...   \n",
       "2  112  PF (10 μM) inhibited IL-33 production, Ca infl...   \n",
       "3  113  We further showed that 4.1B inhibited the prol...   \n",
       "4  114  Y(1) receptor antagonists, BIBP3226 and BIBO33...   \n",
       "\n",
       "                                            Comments  \\\n",
       "0                                                 []   \n",
       "1                                                 []   \n",
       "2  [{'id': 2, 'comment': 'Impossible a Tagger !!!...   \n",
       "3                                                 []   \n",
       "4                                                 []   \n",
       "\n",
       "                                            entities  \\\n",
       "0  [{'id': 17390, 'label': 'TARGET', 'start_offse...   \n",
       "1  [{'id': 17395, 'label': 'BIOVERB', 'start_offs...   \n",
       "2  [{'id': 17402, 'label': 'TARGET', 'start_offse...   \n",
       "3  [{'id': 17409, 'label': 'TARGET', 'start_offse...   \n",
       "4  [{'id': 17420, 'label': 'TARGET', 'start_offse...   \n",
       "\n",
       "                                           relations  \n",
       "0  [{'id': 9805, 'from_id': 34791, 'to_id': 17392...  \n",
       "1  [{'id': 2250, 'from_id': 17400, 'to_id': 17396...  \n",
       "2  [{'id': 2253, 'from_id': 17401, 'to_id': 17406...  \n",
       "3  [{'id': 2259, 'from_id': 17418, 'to_id': 17412...  \n",
       "4  [{'id': 9821, 'from_id': 17425, 'to_id': 17424...  "
      ]
     },
     "execution_count": 6,
     "metadata": {},
     "output_type": "execute_result"
    }
   ],
   "source": [
    "our_data.head()"
   ]
  },
  {
   "cell_type": "code",
   "execution_count": 7,
   "id": "e7963639-7480-48f1-8c75-7701e539a95e",
   "metadata": {},
   "outputs": [],
   "source": [
    "len_relations = our_data.relations.apply(lambda x: len(x))\n",
    "our_data = our_data.loc[len_relations > 0]"
   ]
  },
  {
   "cell_type": "code",
   "execution_count": 8,
   "id": "acc23df3-0b07-488d-a95c-afdf8d9199a7",
   "metadata": {},
   "outputs": [
    {
     "data": {
      "text/plain": [
       "(386, 5)"
      ]
     },
     "execution_count": 8,
     "metadata": {},
     "output_type": "execute_result"
    }
   ],
   "source": [
    "our_data.shape"
   ]
  },
  {
   "cell_type": "code",
   "execution_count": 9,
   "id": "56b734a6-2f71-45db-bf5b-04512f668e93",
   "metadata": {},
   "outputs": [
    {
     "name": "stdout",
     "output_type": "stream",
     "text": [
      "Entities labels :  ['TARGET', 'SMALL_MOLECULE', 'PATHWAY', 'CELL_LINE', 'CHEMICAL', 'CELL LINE', 'UNKNOWN', 'TISSUE', 'DISEASE', 'BIOVERB']\n"
     ]
    },
    {
     "name": "stderr",
     "output_type": "stream",
     "text": [
      "/opt/conda/envs/spacy_gpu/lib/python3.10/site-packages/numpy/core/fromnumeric.py:86: VisibleDeprecationWarning: Creating an ndarray from ragged nested sequences (which is a list-or-tuple of lists-or-tuples-or ndarrays with different lengths or shapes) is deprecated. If you meant to do this, you must specify 'dtype=object' when creating the ndarray.\n",
      "  return ufunc.reduce(obj, axis, dtype, out, **passkwargs)\n"
     ]
    }
   ],
   "source": [
    "ner_labels = our_data.entities.apply(lambda x: [x[i]['label'] for i in range(len(x))])\n",
    "print('Entities labels : ', list(set(np.sum([ner_labels.iloc[k] for k in range(ner_labels.shape[0])]))))"
   ]
  },
  {
   "cell_type": "code",
   "execution_count": 10,
   "id": "416e427f-22db-4242-a5fb-f5beb023b66f",
   "metadata": {},
   "outputs": [
    {
     "name": "stdout",
     "output_type": "stream",
     "text": [
      "Relations labels :  ['activ', 'stimulate', '!increas', 'inhibit', 'suppress', 'enhance', '!regul', 'induc', 'imped', 'reduc', 'express', '!express', 'increas', '!decreas', 'decreas', '!bind', 'regul', 'elevate', 'block', 'target', '!reduc', '!block', 'interact', '!activ', '!inhibit', 'promote', 'bind', '!induc']\n"
     ]
    }
   ],
   "source": [
    "classes = our_data.relations.apply(lambda x: [x[i]['type'] for i in range(len(x))])\n",
    "print('Relations labels : ', list(set(np.sum([classes.iloc[k] for k in range(classes.shape[0])]))))"
   ]
  },
  {
   "cell_type": "code",
   "execution_count": 12,
   "id": "1934b1ea-c712-4abf-874f-9a17564cc8ad",
   "metadata": {
    "tags": []
   },
   "outputs": [],
   "source": [
    "formatted_data = preprocess(our_data, drop_labels=drop_labels)"
   ]
  },
  {
   "cell_type": "code",
   "execution_count": 13,
   "id": "31214e14-6de4-4c88-a666-d427625e9d71",
   "metadata": {},
   "outputs": [
    {
     "data": {
      "text/plain": [
       "(379, 6)"
      ]
     },
     "execution_count": 13,
     "metadata": {},
     "output_type": "execute_result"
    }
   ],
   "source": [
    "formatted_data.shape"
   ]
  },
  {
   "cell_type": "code",
   "execution_count": 14,
   "id": "9133600a-716f-4c94-b8c5-987023956761",
   "metadata": {
    "tags": []
   },
   "outputs": [],
   "source": [
    "# Display spans\n",
    "from spacy import displacy\n",
    "\n",
    "def display_entities(text, entities, entity_type=None):\n",
    "    nlp = spacy.blank(\"en\")\n",
    "    doc = nlp.make_doc(text)\n",
    "    ents = []\n",
    "    for entity in entities:\n",
    "        if (entity[\"label\"] == entity_type) or (entity_type is None):\n",
    "            span_start = entity[\"start\"]\n",
    "            span_end = entity[\"end\"]\n",
    "            label = entity[\"label\"]\n",
    "            ent = doc.char_span(span_start, span_end, label=label)\n",
    "            if ent is None:\n",
    "                continue\n",
    "            ents.append(ent)\n",
    "    doc.ents = ents\n",
    "    displacy.render(doc, style=\"ent\", jupyter=True)\n",
    "\n",
    "if display:\n",
    "    not_working = []\n",
    "    for k in range(formatted_data.shape[0]):\n",
    "        row = formatted_data.iloc[k]\n",
    "        try:\n",
    "            display_entities(row.text, row.spans, None)\n",
    "        except ValueError:\n",
    "            not_working.append(k)"
   ]
  },
  {
   "cell_type": "code",
   "execution_count": 16,
   "id": "7c720469-54ac-4d05-af30-e45b9bac769b",
   "metadata": {},
   "outputs": [],
   "source": [
    "if write_only_test:\n",
    "    assert write_all == False\n",
    "    write_jsonl(formatted_data, '../NER/assets/annotations_test.jsonl')\n",
    "    write_jsonl(formatted_data, '../RE/assets/annotations_test.jsonl')"
   ]
  },
  {
   "cell_type": "code",
   "execution_count": 17,
   "id": "bd2a5e82-1f1e-46b1-aa9f-2462a604c12a",
   "metadata": {},
   "outputs": [],
   "source": [
    "if write_all:\n",
    "    np.random.seed(0)\n",
    "    n1 = int(formatted_data.shape[0] * 65/100)\n",
    "    n2 = int(formatted_data.shape[0] * 85/100) \n",
    "    df_shuffled = formatted_data.sample(frac=1)\n",
    "    annotations_train = df_shuffled[:n1]\n",
    "    annotations_dev = df_shuffled[n1:n2]\n",
    "    annotations_test = df_shuffled[n2:]\n",
    "    # Write for NER\n",
    "    write_jsonl(annotations_train, '../NER/assets/annotations_train.jsonl')\n",
    "    write_jsonl(annotations_dev, '../NER/assets/annotations_dev.jsonl')\n",
    "    write_jsonl(annotations_test, '../NER/assets/annotations_test.jsonl')\n",
    "    # Write for RE\n",
    "    write_jsonl(annotations_train, '../RE/assets/annotations_train.jsonl')\n",
    "    write_jsonl(annotations_dev, '../RE/assets/annotations_dev.jsonl')\n",
    "    write_jsonl(annotations_test, '../RE/assets/annotations_test.jsonl')"
   ]
  },
  {
   "cell_type": "code",
   "execution_count": 18,
   "id": "5d983a9a-9e48-46d8-be2b-aa5fdef1849a",
   "metadata": {},
   "outputs": [],
   "source": [
    "labels = formatted_data.relations.apply(lambda x: [x[i]['label'] for i in range(len(x))])"
   ]
  },
  {
   "cell_type": "code",
   "execution_count": 19,
   "id": "a4257dcb-2c96-4501-969b-9be67a7be612",
   "metadata": {},
   "outputs": [
    {
     "name": "stderr",
     "output_type": "stream",
     "text": [
      "/opt/conda/envs/spacy_gpu/lib/python3.10/site-packages/numpy/core/fromnumeric.py:86: VisibleDeprecationWarning: Creating an ndarray from ragged nested sequences (which is a list-or-tuple of lists-or-tuples-or ndarrays with different lengths or shapes) is deprecated. If you meant to do this, you must specify 'dtype=object' when creating the ndarray.\n",
      "  return ufunc.reduce(obj, axis, dtype, out, **passkwargs)\n"
     ]
    }
   ],
   "source": [
    "total_labels = list(np.sum([labels.iloc[k] for k in range(labels.shape[0])]))"
   ]
  },
  {
   "cell_type": "code",
   "execution_count": 20,
   "id": "cfa26d5b-4638-433a-9816-b6a26f2bf981",
   "metadata": {},
   "outputs": [
    {
     "name": "stdout",
     "output_type": "stream",
     "text": [
      "activ 0.18608058608058609\n",
      "bind 0.07472527472527472\n",
      "block 0.04322344322344322\n",
      "decreas 0.0652014652014652\n",
      "elevate 0.0029304029304029304\n",
      "enhance 0.011721611721611722\n",
      "express 0.12747252747252746\n",
      "imped 0.007326007326007326\n",
      "increas 0.0695970695970696\n",
      "induc 0.08937728937728938\n",
      "inhibit 0.13553113553113552\n",
      "interact 0.0029304029304029304\n",
      "promote 0.008791208791208791\n",
      "reduc 0.07692307692307693\n",
      "regul 0.07179487179487179\n",
      "stimulate 0.014652014652014652\n",
      "suppress 0.011721611721611722\n"
     ]
    }
   ],
   "source": [
    "for label in np.unique(total_labels):\n",
    "    print(label, total_labels.count(label) / len(total_labels))"
   ]
  }
 ],
 "metadata": {
  "environment": {
   "kernel": "spacy_gpu",
   "name": "common-cu110.m95",
   "type": "gcloud",
   "uri": "gcr.io/deeplearning-platform-release/base-cu110:m95"
  },
  "kernelspec": {
   "display_name": "spacy_gpu",
   "language": "python",
   "name": "spacy_gpu"
  },
  "language_info": {
   "codemirror_mode": {
    "name": "ipython",
    "version": 3
   },
   "file_extension": ".py",
   "mimetype": "text/x-python",
   "name": "python",
   "nbconvert_exporter": "python",
   "pygments_lexer": "ipython3",
   "version": "3.10.6"
  }
 },
 "nbformat": 4,
 "nbformat_minor": 5
}
