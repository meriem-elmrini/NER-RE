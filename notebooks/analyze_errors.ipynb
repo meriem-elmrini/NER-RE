{
 "cells": [
  {
   "cell_type": "code",
   "execution_count": 1,
   "id": "0139e8c0-72cb-40cc-b6b0-6b7f5c3f0f6b",
   "metadata": {},
   "outputs": [],
   "source": [
    "import os\n",
    "\n",
    "os.chdir('..')"
   ]
  },
  {
   "cell_type": "code",
   "execution_count": 2,
   "id": "0f60e59b-5a46-4b08-8ce4-c75410ed40ad",
   "metadata": {},
   "outputs": [
    {
     "name": "stderr",
     "output_type": "stream",
     "text": [
      "/opt/conda/envs/spacy_gpu/lib/python3.10/site-packages/tqdm/auto.py:22: TqdmWarning: IProgress not found. Please update jupyter and ipywidgets. See https://ipywidgets.readthedocs.io/en/stable/user_install.html\n",
      "  from .autonotebook import tqdm as notebook_tqdm\n"
     ]
    }
   ],
   "source": [
    "import ast\n",
    "import json\n",
    "import pandas as pd\n",
    "from tqdm import tqdm\n",
    "\n",
    "from utils.read_data import read_jsonl\n",
    "from RE.scripts.settings import MAP_LABELS\n",
    "from RE.RelationExtractor import RelationExtractor\n",
    "\n",
    "tqdm.pandas()"
   ]
  },
  {
   "cell_type": "markdown",
   "id": "600d7c8d-2ba5-42f8-9b79-706ddf904233",
   "metadata": {},
   "source": [
    "### Read data"
   ]
  },
  {
   "cell_type": "code",
   "execution_count": 3,
   "id": "3f6dc36d-e8d8-42ca-8fce-3935a18e3161",
   "metadata": {},
   "outputs": [],
   "source": [
    "data_path = './RE/assets/annotations_test.jsonl'"
   ]
  },
  {
   "cell_type": "code",
   "execution_count": 4,
   "id": "1d51da72-9051-42ea-9c0d-14d37234c999",
   "metadata": {},
   "outputs": [],
   "source": [
    "data = read_jsonl(data_path)"
   ]
  },
  {
   "cell_type": "markdown",
   "id": "11312711-d8dc-4e94-a2d3-26a094119638",
   "metadata": {},
   "source": [
    "### Get predictions"
   ]
  },
  {
   "cell_type": "code",
   "execution_count": 5,
   "id": "67eacb23-72b4-4017-a9a1-dd27c7cffafb",
   "metadata": {},
   "outputs": [],
   "source": [
    "data['ents'] = data.spans.apply(lambda x: [(x[i]['start'], x[i]['end'], x[i]['label']) for i in range(len(x))])"
   ]
  },
  {
   "cell_type": "code",
   "execution_count": 6,
   "id": "2a0c511d-2109-47d9-9142-e4d1144b8a26",
   "metadata": {
    "tags": []
   },
   "outputs": [],
   "source": [
    "re = RelationExtractor(model='trf')"
   ]
  },
  {
   "cell_type": "code",
   "execution_count": 8,
   "id": "a4c6266f-4494-4424-95a2-f5c92a5c8c67",
   "metadata": {},
   "outputs": [
    {
     "name": "stderr",
     "output_type": "stream",
     "text": [
      "100%|██████████| 57/57 [00:38<00:00,  1.48it/s]\n"
     ]
    }
   ],
   "source": [
    "data['preds'] = data.progress_apply(lambda x: re.get_predictions(x.text, 0.4, True, x.ents, False)[1], axis=1)"
   ]
  },
  {
   "cell_type": "code",
   "execution_count": 9,
   "id": "aae093f7-9cab-45ab-9d8d-b98356503df9",
   "metadata": {
    "collapsed": true,
    "jupyter": {
     "outputs_hidden": true
    },
    "tags": []
   },
   "outputs": [
    {
     "data": {
      "text/plain": [
       "[{'head': 8,\n",
       "  'child': 18,\n",
       "  'head_span': {'start': 36,\n",
       "   'end': 50,\n",
       "   'token_start': 5,\n",
       "   'token_end': 8,\n",
       "   'label': 'TISSUE'},\n",
       "  'child_span': {'start': 93,\n",
       "   'end': 121,\n",
       "   'token_start': 15,\n",
       "   'token_end': 18,\n",
       "   'label': 'TARGET'},\n",
       "  'label': 'activ'},\n",
       " {'head': 24,\n",
       "  'child': 18,\n",
       "  'head_span': {'start': 142,\n",
       "   'end': 168,\n",
       "   'token_start': 22,\n",
       "   'token_end': 24,\n",
       "   'label': 'TARGET'},\n",
       "  'child_span': {'start': 93,\n",
       "   'end': 121,\n",
       "   'token_start': 15,\n",
       "   'token_end': 18,\n",
       "   'label': 'TARGET'},\n",
       "  'label': 'activ'},\n",
       " {'head': 63,\n",
       "  'child': 24,\n",
       "  'head_span': {'start': 326,\n",
       "   'end': 345,\n",
       "   'token_start': 59,\n",
       "   'token_end': 63,\n",
       "   'label': 'CHEMICAL'},\n",
       "  'child_span': {'start': 142,\n",
       "   'end': 168,\n",
       "   'token_start': 22,\n",
       "   'token_end': 24,\n",
       "   'label': 'TARGET'},\n",
       "  'label': 'activ'}]"
      ]
     },
     "execution_count": 9,
     "metadata": {},
     "output_type": "execute_result"
    }
   ],
   "source": [
    "data.relations.iloc[0]"
   ]
  },
  {
   "cell_type": "code",
   "execution_count": 21,
   "id": "4c14f040-7b62-40f7-8fc3-1cfe540f8814",
   "metadata": {},
   "outputs": [],
   "source": [
    "data['truth'] = data.apply(lambda x: [(x.text[x.relations[i]['head_span']['start']: x.relations[i]['head_span']['end']], \n",
    "                                       x.text[x.relations[i]['child_span']['start']: x.relations[i]['child_span']['end']],\n",
    "                                       MAP_LABELS[x.relations[i]['label']], \n",
    "                                      1) for i in range(len(x.relations))], axis=1)"
   ]
  },
  {
   "cell_type": "code",
   "execution_count": 32,
   "id": "89b62f1a-b220-41b0-b6d2-82bda2380d5d",
   "metadata": {},
   "outputs": [
    {
     "data": {
      "text/plain": [
       "[('rnf169', 'h2a-lys13', 'Bind', 1), ('rnf169', 'lys15', 'Bind', 1)]"
      ]
     },
     "execution_count": 32,
     "metadata": {},
     "output_type": "execute_result"
    }
   ],
   "source": [
    "data.truth.iloc[4]"
   ]
  },
  {
   "cell_type": "code",
   "execution_count": 33,
   "id": "c5be1436-bd27-4b8b-8dbd-2105e375f81a",
   "metadata": {},
   "outputs": [
    {
     "data": {
      "text/plain": [
       "[[('rnf169', 'h2a-lys13', 'Bind', 0.97017896)],\n",
       " [('rnf169', 'lys15', 'Bind', 0.96965617)],\n",
       " [('rnf169', 'ubiquitin', 'Bind', 0.9320422)]]"
      ]
     },
     "execution_count": 33,
     "metadata": {},
     "output_type": "execute_result"
    }
   ],
   "source": [
    "data.preds.iloc[4]"
   ]
  },
  {
   "cell_type": "code",
   "execution_count": 31,
   "id": "3a9b0d96-dc82-4c51-bd5d-f25aed14cd9e",
   "metadata": {},
   "outputs": [
    {
     "data": {
      "text/plain": [
       "\"when compared to controls, the density of 125i-ngf binding sites was reduced by 30% in the striatum of patients with progressive supranuclear palsy but not reduced in that of patients with parkinson's disease. 125i-ngf binding was not significantly decreased in the nucleus basalis of meynert in either diseases\""
      ]
     },
     "execution_count": 31,
     "metadata": {},
     "output_type": "execute_result"
    }
   ],
   "source": [
    "data.text.iloc[3]"
   ]
  },
  {
   "cell_type": "code",
   "execution_count": null,
   "id": "22942842-3aeb-4d0f-b53e-92302e18dc77",
   "metadata": {},
   "outputs": [],
   "source": []
  }
 ],
 "metadata": {
  "environment": {
   "kernel": "spacy_gpu",
   "name": "common-cu110.m95",
   "type": "gcloud",
   "uri": "gcr.io/deeplearning-platform-release/base-cu110:m95"
  },
  "kernelspec": {
   "display_name": "spacy_gpu",
   "language": "python",
   "name": "spacy_gpu"
  },
  "language_info": {
   "codemirror_mode": {
    "name": "ipython",
    "version": 3
   },
   "file_extension": ".py",
   "mimetype": "text/x-python",
   "name": "python",
   "nbconvert_exporter": "python",
   "pygments_lexer": "ipython3",
   "version": "3.10.6"
  }
 },
 "nbformat": 4,
 "nbformat_minor": 5
}
